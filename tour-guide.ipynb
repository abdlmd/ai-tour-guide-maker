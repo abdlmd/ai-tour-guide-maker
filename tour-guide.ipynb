{
 "cells": [
  {
   "cell_type": "code",
   "execution_count": null,
   "id": "f8edff34-1c13-4d93-95f8-a359981b3556",
   "metadata": {},
   "outputs": [],
   "source": [
    "from bs4 import BeautifulSoup\n",
    "import requests\n",
    "from dotenv import load_dotenv\n",
    "import os\n",
    "from google import genai\n",
    "from IPython.display import Markdown,display"
   ]
  },
  {
   "cell_type": "code",
   "execution_count": null,
   "id": "798da408-42ca-493b-8402-2084b56a36a5",
   "metadata": {},
   "outputs": [],
   "source": [
    "load_dotenv(override=True)"
   ]
  },
  {
   "cell_type": "code",
   "execution_count": null,
   "id": "05becaae-947d-43df-9ec3-651485418a03",
   "metadata": {},
   "outputs": [],
   "source": [
    "api_key=os.getenv('GEMINI_API_KEY')"
   ]
  },
  {
   "cell_type": "code",
   "execution_count": null,
   "id": "c233b456-8916-4d17-bd68-29b1c5c747d5",
   "metadata": {},
   "outputs": [],
   "source": [
    "def myFunc(url):\n",
    "    if not url or not url.startswith(\"http\"):\n",
    "        return {\"title\": \"\", \"text\": \"\", \"links\": []}  \n",
    "    page_text=requests.get(url).text\n",
    "    soap=BeautifulSoup(page_text,'lxml')\n",
    "    title=soap.find(\"span\",class_=\"mw-page-title-main\").text\n",
    "    text=soap.find(\"div\",class_=\"mw-body-content\").text\n",
    "    links=soap.find_all(\"a\")\n",
    "    storedLinks=[]\n",
    "    for link in links:\n",
    "        href=link.get('href')\n",
    "        if(href and \"/wiki\" in href and not href.startswith(\"/wiki/File:\")):\n",
    "            storedLinks.append(\"https://en.wikipedia.org/\"+ href)\n",
    "        \n",
    "        \n",
    "    \n",
    "\n",
    "    return {\"text\":text,\"links\":storedLinks,\"title\":title}"
   ]
  },
  {
   "cell_type": "code",
   "execution_count": null,
   "id": "61752ded-1d38-4419-be17-90f612ace5f2",
   "metadata": {},
   "outputs": [],
   "source": [
    "result=myFunc(\"https://en.wikipedia.org/wiki/Islamabad\")"
   ]
  },
  {
   "cell_type": "code",
   "execution_count": null,
   "id": "222aad41-e241-472b-9671-9f31a9bcc668",
   "metadata": {},
   "outputs": [],
   "source": [
    "print(result['links'])"
   ]
  },
  {
   "cell_type": "code",
   "execution_count": null,
   "id": "9e2af69a-a97b-472e-beb7-6529d5b69118",
   "metadata": {},
   "outputs": [],
   "source": [
    "client = genai.Client()"
   ]
  },
  {
   "cell_type": "code",
   "execution_count": null,
   "id": "9481536b-a0de-4b5e-8b5e-19f7f5c91396",
   "metadata": {},
   "outputs": [],
   "source": [
    "response = client.models.generate_content(\n",
    "    model=\"gemini-2.5-flash\", contents=f\"This is the wikipedia page of city: {result['title']} and I have all the urls on the page, i want you to give me strictly only those links that are related in a way as if i was making a travel guide on the city, this is the page text {result['text']} and these are the links {result['links']} the result should be in a json format\"\n",
    ")\n",
    "print(\"Compilign..\")\n",
    "relatedLinks=response.text\n",
    "print(relatedLinks)"
   ]
  },
  {
   "cell_type": "code",
   "execution_count": null,
   "id": "a0d6b1a1-a41a-46a5-9db8-96888b09580f",
   "metadata": {},
   "outputs": [],
   "source": [
    "for link in relatedLinks:\n",
    "    result['text'] += \"\\n\\n\" + myFunc(link)['text']\n",
    "\n",
    "    "
   ]
  },
  {
   "cell_type": "code",
   "execution_count": null,
   "id": "c593a7f5-71a4-4954-b199-52ea7f253da5",
   "metadata": {},
   "outputs": [],
   "source": [
    "response = client.models.generate_content(\n",
    "    model=\"gemini-2.5-flash\", contents=f\"This is {result['text']} about the city {result['title']}, using all this information make me a beautifully formatted city tour guide\"\n",
    ")\n",
    "generated_text = response.candidates[0].content.parts[0].text  \n",
    "\n",
    "display(Markdown(generated_text))"
   ]
  },
  {
   "cell_type": "code",
   "execution_count": null,
   "id": "cad62252-6cc4-43a1-b1e0-c55b195a6554",
   "metadata": {},
   "outputs": [],
   "source": [
    "g"
   ]
  },
  {
   "cell_type": "code",
   "execution_count": null,
   "id": "017138eb-08fa-4281-a7c6-8f97a9172597",
   "metadata": {},
   "outputs": [],
   "source": []
  }
 ],
 "metadata": {
  "kernelspec": {
   "display_name": "Python 3 (ipykernel)",
   "language": "python",
   "name": "python3"
  },
  "language_info": {
   "codemirror_mode": {
    "name": "ipython",
    "version": 3
   },
   "file_extension": ".py",
   "mimetype": "text/x-python",
   "name": "python",
   "nbconvert_exporter": "python",
   "pygments_lexer": "ipython3",
   "version": "3.11.0"
  }
 },
 "nbformat": 4,
 "nbformat_minor": 5
}
